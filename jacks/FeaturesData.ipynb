{
 "cells": [
  {
   "cell_type": "code",
   "execution_count": 2,
   "metadata": {
    "collapsed": false,
    "deletable": true,
    "editable": true
   },
   "outputs": [],
   "source": [
    "import pandas as pd\n",
    "import numpy as np\n",
    "from sklearn import svm\n",
    "from sklearn.metrics import accuracy_score"
   ]
  },
  {
   "cell_type": "code",
   "execution_count": 39,
   "metadata": {
    "collapsed": false,
    "deletable": true,
    "editable": true
   },
   "outputs": [
    {
     "data": {
      "text/plain": [
       "\"\\ncsvNames = ['Well1B3mths.csv','Well1C3mths.csv','Well1D3mths.csv','Well1E3mths.csv',\\n           'Well1F3mths.csv','Well1G3mths.csv','Well1H3mths.csv','Well1I3mths.csv',\\n           'Well1J3mths.csv','Well2A3mths.csv','Well2B3mths.csv','Well2C3mths.csv',\\n            'Well2D3mths.csv','Well2E3mths.csv','Well3A3mths.csv','Well3B3mths.csv',\\n            'Well3C3mths.csv','Well3D3mths.csv','Well3E3mths.csv','Well3F3mths.csv',\\n            'Well3G3mths.csv','Well3H3mths.csv','Well3I3mths.csv','Well4A3mths.csv',\\n            'Well4B3mths.csv']\\n\""
      ]
     },
     "execution_count": 39,
     "metadata": {},
     "output_type": "execute_result"
    }
   ],
   "source": [
    "csvNames = ['Well1B3mths.csv','Well1C3mths.csv','Well1D3mths.csv']\n",
    "\"\"\"\n",
    "csvNames = ['Well1B3mths.csv','Well1C3mths.csv','Well1D3mths.csv','Well1E3mths.csv',\n",
    "           'Well1F3mths.csv','Well1G3mths.csv','Well1H3mths.csv','Well1I3mths.csv',\n",
    "           'Well1J3mths.csv','Well2A3mths.csv','Well2B3mths.csv','Well2C3mths.csv',\n",
    "            'Well2D3mths.csv','Well2E3mths.csv','Well3A3mths.csv','Well3B3mths.csv',\n",
    "            'Well3C3mths.csv','Well3D3mths.csv','Well3E3mths.csv','Well3F3mths.csv',\n",
    "            'Well3G3mths.csv','Well3H3mths.csv','Well3I3mths.csv','Well4A3mths.csv',\n",
    "            'Well4B3mths.csv']\n",
    "\"\"\""
   ]
  },
  {
   "cell_type": "code",
   "execution_count": 40,
   "metadata": {
    "collapsed": false,
    "deletable": true,
    "editable": true
   },
   "outputs": [],
   "source": [
    "featuresColNames = ['Casing Pressure',\n",
    "                    'Gas Flow (Volume)',\n",
    "                    'Motor Speed',\n",
    "                    'Motor Torque',\n",
    "                    'Pump Speed Actual',\n",
    "                    'Tubing Flow Meter',\n",
    "                    'Tubing Pressure',\n",
    "                    'Water Flow Mag from Separator']\n",
    "targetsName = ['Downhole Gauge Pressure']\n",
    "\n",
    "allFeatures = []\n",
    "allTargets = []\n",
    "\n",
    "for well in csvNames:\n",
    "    df = pd.DataFrame.from_csv(well)\n",
    "    \n",
    "    features = df[featuresColNames]\n",
    "    target = df[targetsName]\n",
    "    \n",
    "    allFeatures.append(features)\n",
    "    allTargets.append(target)\n",
    "\n",
    "allFeatures = pd.concat(allFeatures)\n",
    "allTargets = pd.concat(allTargets)"
   ]
  },
  {
   "cell_type": "markdown",
   "metadata": {},
   "source": [
    "## Split the Features and Targets into Training and Test Sets"
   ]
  },
  {
   "cell_type": "code",
   "execution_count": 6,
   "metadata": {
    "collapsed": false,
    "deletable": true,
    "editable": true
   },
   "outputs": [],
   "source": [
    "trainingX = features[:100]\n",
    "trainingY = target[:100]\n",
    "testX = features[200:300]\n",
    "testY = target[200:300]"
   ]
  },
  {
   "cell_type": "markdown",
   "metadata": {},
   "source": [
    "# 🤖 Machine Learning (with sklearn)"
   ]
  },
  {
   "cell_type": "code",
   "execution_count": 26,
   "metadata": {
    "collapsed": false,
    "deletable": true,
    "editable": true
   },
   "outputs": [],
   "source": [
    "clf = svm.SVR()\n",
    "clf.fit(trainingX, trainingY) \n",
    "predictions = clf.predict(testX)"
   ]
  },
  {
   "cell_type": "markdown",
   "metadata": {},
   "source": [
    "## Calculate the Percentage of Error \n",
    "\n",
    "Go through each example and calculate the percentage of error. Add this percentage of error to an array. Then use this array to calculate the overall percentage of error within the predicted test set."
   ]
  },
  {
   "cell_type": "code",
   "execution_count": 25,
   "metadata": {
    "collapsed": false
   },
   "outputs": [
    {
     "name": "stdout",
     "output_type": "stream",
     "text": [
      "Overall error was: 0.0201162442605%\n"
     ]
    }
   ],
   "source": [
    "def calculateError(prediction, actual):\n",
    "    return (predicted-actual)/actual\n",
    "\n",
    "percentageErrors = []\n",
    "for i, prediction in enumerate(predictions):\n",
    "    actual = testY[i][0]\n",
    "    percentageError = (prediction-actual)/actual\n",
    "    percentageErrors.append(percentageError)\n",
    "\n",
    "overallError = np.sum(percentageErrors) / len(percentageErrors)\n",
    "\n",
    "print \"Overall error was: \" + str(overallError*100) + \"%\""
   ]
  }
 ],
 "metadata": {
  "kernelspec": {
   "display_name": "Python 2",
   "language": "python",
   "name": "python2"
  },
  "language_info": {
   "codemirror_mode": {
    "name": "ipython",
    "version": 2
   },
   "file_extension": ".py",
   "mimetype": "text/x-python",
   "name": "python",
   "nbconvert_exporter": "python",
   "pygments_lexer": "ipython2",
   "version": "2.7.13"
  }
 },
 "nbformat": 4,
 "nbformat_minor": 2
}
