{
 "cells": [
  {
   "cell_type": "code",
   "execution_count": 1,
   "metadata": {
    "collapsed": true,
    "deletable": true,
    "editable": true
   },
   "outputs": [],
   "source": [
    "import pandas as pd\n",
    "import numpy as np\n",
    "from sklearn import svm"
   ]
  },
  {
   "cell_type": "code",
   "execution_count": 2,
   "metadata": {
    "collapsed": false,
    "deletable": true,
    "editable": true
   },
   "outputs": [
    {
     "data": {
      "text/plain": [
       "\"\\ncsvNames = ['Well1B3mths.csv','Well1C3mths.csv','Well1D3mths.csv','Well1E3mths.csv',\\n           'Well1F3mths.csv','Well1G3mths.csv','Well1H3mths.csv','Well1I3mths.csv',\\n           'Well1J3mths.csv','Well2A3mths.csv','Well2B3mths.csv','Well2C3mths.csv',\\n            'Well2D3mths.csv','Well2E3mths.csv','Well3A3mths.csv','Well3B3mths.csv',\\n            'Well3C3mths.csv','Well3D3mths.csv','Well3E3mths.csv','Well3F3mths.csv',\\n            'Well3G3mths.csv','Well3H3mths.csv','Well3I3mths.csv','Well4A3mths.csv',\\n            'Well4B3mths.csv']\\n\""
      ]
     },
     "execution_count": 2,
     "metadata": {},
     "output_type": "execute_result"
    }
   ],
   "source": [
    "csvNames = ['Well1B3mths.csv']\n",
    "\"\"\"\n",
    "csvNames = ['Well1B3mths.csv','Well1C3mths.csv','Well1D3mths.csv','Well1E3mths.csv',\n",
    "           'Well1F3mths.csv','Well1G3mths.csv','Well1H3mths.csv','Well1I3mths.csv',\n",
    "           'Well1J3mths.csv','Well2A3mths.csv','Well2B3mths.csv','Well2C3mths.csv',\n",
    "            'Well2D3mths.csv','Well2E3mths.csv','Well3A3mths.csv','Well3B3mths.csv',\n",
    "            'Well3C3mths.csv','Well3D3mths.csv','Well3E3mths.csv','Well3F3mths.csv',\n",
    "            'Well3G3mths.csv','Well3H3mths.csv','Well3I3mths.csv','Well4A3mths.csv',\n",
    "            'Well4B3mths.csv']\n",
    "\"\"\""
   ]
  },
  {
   "cell_type": "code",
   "execution_count": 6,
   "metadata": {
    "collapsed": false,
    "deletable": true,
    "editable": true
   },
   "outputs": [],
   "source": [
    "featuresColNames = ['Casing Pressure',\n",
    "                    'Gas Flow (Volume)',\n",
    "                    'Motor Speed',\n",
    "                    'Motor Torque',\n",
    "                    'Pump Speed Actual',\n",
    "                    'Tubing Flow Meter',\n",
    "                    'Tubing Pressure',\n",
    "                    'Water Flow Mag from Separator']\n",
    "targetsName = ['Downhole Gauge Pressure']\n",
    "\n",
    "for well in csvNames:\n",
    "    df = pd.DataFrame.from_csv(well)\n",
    "    features = df[featuresColNames].as_matrix()\n",
    "    target = df[targetsName].as_matrix()"
   ]
  },
  {
   "cell_type": "code",
   "execution_count": 7,
   "metadata": {
    "collapsed": false
   },
   "outputs": [],
   "source": [
    "trainingX = features[:100]\n",
    "trainingY = target[:100]\n",
    "testX = features[200:300]\n",
    "testY = target[200:300]"
   ]
  },
  {
   "cell_type": "code",
   "execution_count": 8,
   "metadata": {
    "collapsed": false
   },
   "outputs": [
    {
     "name": "stdout",
     "output_type": "stream",
     "text": [
      "[ 404.257019      0.          324.           38.77766418   91.\n",
      "   13.33367825  406.2840271    12.01595592]\n"
     ]
    }
   ],
   "source": [
    "print trainingX[0]"
   ]
  },
  {
   "cell_type": "code",
   "execution_count": 9,
   "metadata": {
    "collapsed": false
   },
   "outputs": [
    {
     "name": "stderr",
     "output_type": "stream",
     "text": [
      "/usr/local/lib/python2.7/site-packages/sklearn/utils/validation.py:526: DataConversionWarning: A column-vector y was passed when a 1d array was expected. Please change the shape of y to (n_samples, ), for example using ravel().\n",
      "  y = column_or_1d(y, warn=True)\n"
     ]
    },
    {
     "data": {
      "text/plain": [
       "SVR(C=1.0, cache_size=200, coef0=0.0, degree=3, epsilon=0.1, gamma='auto',\n",
       "  kernel='rbf', max_iter=-1, shrinking=True, tol=0.001, verbose=False)"
      ]
     },
     "execution_count": 9,
     "metadata": {},
     "output_type": "execute_result"
    }
   ],
   "source": [
    "clf = svm.SVR()\n",
    "clf.fit(trainingX, trainingY) "
   ]
  },
  {
   "cell_type": "code",
   "execution_count": 10,
   "metadata": {
    "collapsed": false
   },
   "outputs": [
    {
     "data": {
      "text/plain": [
       "array([ 441.99695029,  441.99695029,  441.99695029,  441.99695029,\n",
       "        441.92892163,  442.19993554,  442.2351962 ,  441.62955372,\n",
       "        442.05679565,  441.97016403,  442.21751722,  441.58889935,\n",
       "        441.92333392,  441.52412189,  442.55922848,  441.96858584,\n",
       "        441.99944069,  442.16964193,  442.08331864,  442.02028259,\n",
       "        441.75004699,  442.03634562,  441.99693029,  442.02819183,\n",
       "        442.05877226,  441.98290674,  441.90946893,  441.94433821,\n",
       "        442.01360331,  442.0971369 ,  441.92874483,  441.80203488,\n",
       "        441.99917319,  442.05619108,  441.97149786,  442.02804058,\n",
       "        441.99247719,  441.93334494,  441.9583991 ,  442.14136298,\n",
       "        442.00223341,  442.05004105,  442.06549584,  442.01011084,\n",
       "        441.95599987,  441.94794316,  441.87595868,  442.06123416,\n",
       "        442.27876373,  442.0031559 ,  441.64143191,  442.003869  ,\n",
       "        441.93023041,  441.93894929,  441.99712866,  441.98634048,\n",
       "        442.34882012,  442.0055717 ,  442.02299855,  441.99885104,\n",
       "        441.58316076,  441.77163901,  442.02250382,  441.99699992,\n",
       "        441.99717019,  441.90192967,  441.86964842,  441.79932047,\n",
       "        441.99926562,  441.94371678,  441.99829044,  441.98005621,\n",
       "        442.01443633,  441.99214072,  442.05597076,  442.15671318,\n",
       "        442.0067658 ,  441.93499069,  442.18360699,  441.96399622,\n",
       "        441.83020465,  441.95060018,  442.06605831,  441.99760945,\n",
       "        441.94362749,  441.92092304,  442.07748612,  442.00698355,\n",
       "        442.04252643,  441.9969924 ,  441.90069555,  441.98957648,\n",
       "        441.93466882,  442.06182288,  442.00015336,  441.99708315,\n",
       "        441.97059886,  441.96223657,  441.98455216,  442.09047862])"
      ]
     },
     "execution_count": 10,
     "metadata": {},
     "output_type": "execute_result"
    }
   ],
   "source": [
    "clf.predict(testX)"
   ]
  },
  {
   "cell_type": "code",
   "execution_count": null,
   "metadata": {
    "collapsed": true
   },
   "outputs": [],
   "source": []
  }
 ],
 "metadata": {
  "kernelspec": {
   "display_name": "Python 2",
   "language": "python",
   "name": "python2"
  },
  "language_info": {
   "codemirror_mode": {
    "name": "ipython",
    "version": 2
   },
   "file_extension": ".py",
   "mimetype": "text/x-python",
   "name": "python",
   "nbconvert_exporter": "python",
   "pygments_lexer": "ipython2",
   "version": "2.7.13"
  }
 },
 "nbformat": 4,
 "nbformat_minor": 2
}
